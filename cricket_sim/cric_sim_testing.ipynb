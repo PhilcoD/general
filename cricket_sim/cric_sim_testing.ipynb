{
 "cells": [
  {
   "cell_type": "code",
   "execution_count": 3,
   "id": "392cee85-0288-4225-afad-48fff293f821",
   "metadata": {},
   "outputs": [],
   "source": [
    "import random"
   ]
  },
  {
   "cell_type": "code",
   "execution_count": 28,
   "id": "18554b4d-31b3-467c-ad26-0e957872adf9",
   "metadata": {},
   "outputs": [],
   "source": [
    "ball_outcomes = {\n",
    "    \"dot\": {\n",
    "        \"runs\": 0,\n",
    "        \"symbol\": \".\",\n",
    "        \"prob_weight\": 0.5,\n",
    "    },\n",
    "    \"one\": {\n",
    "        \"runs\": 1,\n",
    "        \"symbol\": \"1\",\n",
    "        \"prob_weight\": 0.2,\n",
    "    },\n",
    "    \"two\": {\n",
    "        \"runs\": 2,\n",
    "        \"symbol\": \"2\",\n",
    "        \"prob_weight\": 0.1,\n",
    "    },\n",
    "    \"three\": {\n",
    "        \"runs\": 3,\n",
    "        \"symbol\": \"3\",\n",
    "        \"prob_weight\": 0.05,\n",
    "    },\n",
    "    \"four\": {\n",
    "        \"runs\": 4,\n",
    "        \"symbol\": \"4\",\n",
    "        \"prob_weight\": 0.1,\n",
    "    },\n",
    "    \"six\": {\n",
    "        \"runs\": 6,\n",
    "        \"symbol\": \"6\",\n",
    "        \"prob_weight\": 0.05,\n",
    "    },\n",
    "    \"wicket\": {\n",
    "        \"runs\": 0,\n",
    "        \"symbol\": \"w\",\n",
    "        \"prob_weight\": 0.05,\n",
    "    },\n",
    "}"
   ]
  },
  {
   "cell_type": "code",
   "execution_count": 29,
   "id": "dae680a9-f9ba-4ada-871a-f45adbd9800b",
   "metadata": {},
   "outputs": [],
   "source": [
    "population = list(ball_outcomes.keys())\n",
    "prob_weights = [ball_outcomes[i][\"prob_weight\"] for i in ball_outcomes.keys()]"
   ]
  },
  {
   "cell_type": "code",
   "execution_count": 109,
   "id": "8ddafa70-2de7-47db-9d28-83a323c09def",
   "metadata": {},
   "outputs": [
    {
     "data": {
      "text/plain": [
       "['dot', 'one', 'three', 'two', 'dot', 'dot', 'dot', 'one', 'dot', 'one']"
      ]
     },
     "execution_count": 109,
     "metadata": {},
     "output_type": "execute_result"
    }
   ],
   "source": [
    "random.choices(population, weights=prob_weights, k=10)"
   ]
  },
  {
   "cell_type": "code",
   "execution_count": 156,
   "id": "df9a2879-350d-42f3-b5c4-b57ae48659cd",
   "metadata": {},
   "outputs": [
    {
     "name": "stdout",
     "output_type": "stream",
     "text": [
      "['.', '1', '.', '.', '.', 'w', '.', '3', '.', '2', '.', '.', '3', '3', '1', '.', '.', '3', '.', '1', '1', '.', '.', 'w', 'w', '.', '1', '.', '1', '6', '1', 'w', '.', '1', '.', '6', '.', '2', '3', '.', 'w', '4', '1', '1', '.', '.', '.', '1', '.', '.', '.', '6', '.', '1', '.', '.', '1', '2', '4', '1', '3', '1', '.', '.', '.', '1', '1', '.', '.', '3', '2', '.', '.', '.', '.', 'w', '.', '.', 'w', '2', 'w', '.', '.', '.', '4', '4', '4', '.', '2', '4', '4', '4', '.', '1', '1', '.', '1', '2', '.', '4', '.', '1', '1', '.', '.', '.', '.', '2', '.', '4', 'w', 'w']\n",
      "117 - 10\n"
     ]
    }
   ],
   "source": [
    "over_length = 6\n",
    "innings_length = 20\n",
    "\n",
    "over = 0\n",
    "ball = 1\n",
    "scorecard = []\n",
    "over_tracker = []\n",
    "\n",
    "wickets = 0\n",
    "runs = 0\n",
    "\n",
    "while over < innings_length:\n",
    "    ball_outcome = random.choices(population, weights=prob_weights, k=1)[0]\n",
    "    scorecard.append(ball_outcomes[ball_outcome][\"symbol\"])\n",
    "    runs = runs + ball_outcomes[ball_outcome][\"runs\"]\n",
    "    \n",
    "    over_tracker.append(f'{str(over)}.{str(ball)}')\n",
    "    \n",
    "    if ball_outcome == \"wicket\":\n",
    "        wickets = wickets + 1\n",
    "    if wickets == 10:\n",
    "        over = innings_length\n",
    "    \n",
    "    ball = ball + 1\n",
    "    \n",
    "    if ball == over_length + 1:\n",
    "        over = over + 1\n",
    "        ball = 1\n",
    "        pass\n",
    "    \n",
    "\n",
    "print(scorecard)\n",
    "print(f'{str(runs)} - {str(wickets)}')"
   ]
  },
  {
   "cell_type": "code",
   "execution_count": 170,
   "id": "499bdb57-c0c7-49bd-a503-712a502a71d2",
   "metadata": {},
   "outputs": [],
   "source": [
    "over = 0\n",
    "\n",
    "over_length = 6\n",
    "innings_length = 5\n",
    "\n",
    "overs = []\n",
    "\n",
    "while over < innings_length:\n",
    "    \n",
    "    temp_over_dict = {\n",
    "        \"over\": over,\n",
    "        \"deliveries\": []\n",
    "    }\n",
    "    \n",
    "    ball = 1\n",
    "    \n",
    "    while ball <= over_length:\n",
    "        ball_outcome = random.choices(population, weights=prob_weights, k=1)[0]\n",
    "        temp_over_dict[\"deliveries\"].append(ball_outcome)\n",
    "\n",
    "        ball = ball + 1\n",
    "        \n",
    "        if ball == 6:\n",
    "            overs.append(temp_over_dict)\n",
    "            over = over + 1\n"
   ]
  },
  {
   "cell_type": "code",
   "execution_count": 171,
   "id": "edc1a89d-c608-4403-abef-add031e129e2",
   "metadata": {},
   "outputs": [
    {
     "data": {
      "text/plain": [
       "[{'over': 0, 'deliveries': ['two', 'dot', 'one', 'three', 'one', 'dot']},\n",
       " {'over': 1, 'deliveries': ['dot', 'dot', 'dot', 'dot', 'dot', 'one']},\n",
       " {'over': 2, 'deliveries': ['dot', 'dot', 'three', 'one', 'one', 'wicket']},\n",
       " {'over': 3, 'deliveries': ['four', 'one', 'four', 'four', 'six', 'dot']},\n",
       " {'over': 4, 'deliveries': ['dot', 'three', 'one', 'four', 'six', 'dot']}]"
      ]
     },
     "execution_count": 171,
     "metadata": {},
     "output_type": "execute_result"
    }
   ],
   "source": [
    "overs"
   ]
  },
  {
   "cell_type": "code",
   "execution_count": null,
   "id": "408666e9-76c1-482a-a2c2-b06eabfdbe71",
   "metadata": {},
   "outputs": [],
   "source": []
  }
 ],
 "metadata": {
  "kernelspec": {
   "display_name": "Python 3 (ipykernel)",
   "language": "python",
   "name": "python3"
  },
  "language_info": {
   "codemirror_mode": {
    "name": "ipython",
    "version": 3
   },
   "file_extension": ".py",
   "mimetype": "text/x-python",
   "name": "python",
   "nbconvert_exporter": "python",
   "pygments_lexer": "ipython3",
   "version": "3.10.8"
  }
 },
 "nbformat": 4,
 "nbformat_minor": 5
}
