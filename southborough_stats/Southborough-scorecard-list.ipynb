{
 "cells": [
  {
   "cell_type": "code",
   "execution_count": null,
   "metadata": {},
   "outputs": [],
   "source": [
    "import selenium, openpyxl, shutil, os, time\n",
    "from selenium import webdriver"
   ]
  },
  {
   "cell_type": "code",
   "execution_count": null,
   "metadata": {},
   "outputs": [],
   "source": []
  },
  {
   "cell_type": "code",
   "execution_count": null,
   "metadata": {},
   "outputs": [],
   "source": [
    "def user_inputs():\n",
    "    print('Enter Play-Cricket login email.')\n",
    "    email_input = input()\n",
    "    print('Enter Play-Cricket login password.')\n",
    "    pwd_input = input()\n",
    "    print('Enter start and end dates in format dd/mm/yyyy. The two dates must be less than 1 year apart.')\n",
    "    print('Start date:')\n",
    "    startdate = input()\n",
    "    print('End date:')\n",
    "    enddate = input()\n",
    "    return email_input, pwd_input, startdate, enddate"
   ]
  },
  {
   "cell_type": "code",
   "execution_count": null,
   "metadata": {},
   "outputs": [],
   "source": [
    "def results_worksheet_download(email_input, pwd_input, startdate, enddate):\n",
    "    driver = webdriver.Chrome('C:/Users/philc/Documents/Python/chromedriver.exe')\n",
    "    driver.get('https://southboroughcc.play-cricket.com/')\n",
    "\n",
    "    link = driver.find_element_by_xpath('//*[@id=\"cookieaccept\"]/div/div/div/div/button')\n",
    "    link.click()\n",
    "\n",
    "    login_link = driver.find_element_by_xpath('/html/body/div[2]/div/div[3]/ul/li[1]/a')\n",
    "    login_link.click()\n",
    "\n",
    "    driver.implicitly_wait(10)\n",
    "\n",
    "    email_link = driver.find_element_by_xpath('//*[@id=\"main\"]/form/div[1]/input')\n",
    "    email_link.send_keys(email_input)\n",
    "\n",
    "    pwd_link = driver.find_element_by_xpath('//*[@id=\"main\"]/form/div[2]/input')\n",
    "    pwd_link.send_keys(pwd_input)\n",
    "\n",
    "    link = driver.find_element_by_xpath('//*[@id=\"main\"]/form/div[4]/input')\n",
    "    link.click()\n",
    "\n",
    "    driver.get('https://southboroughcc.play-cricket.com/site_admin/results')\n",
    "    startdate_link = driver.find_element_by_xpath('//*[@id=\"q_match_date_gteq\"]')\n",
    "    startdate_link.clear()\n",
    "    startdate_link.send_keys(startdate)\n",
    "    enddate_link = driver.find_element_by_xpath('//*[@id=\"q_match_date_lteq\"]')\n",
    "    enddate_link.clear()\n",
    "    enddate_link.send_keys(enddate)\n",
    "    link = driver.find_element_by_xpath('//*[@id=\"match_search\"]/div/table/tbody/tr[4]/td[2]/input')\n",
    "    link.click()\n",
    "    link = driver.find_element_by_xpath('//*[@id=\"match_search\"]/div/table/tbody/tr[4]/td[3]/a')\n",
    "    link.click()\n",
    "\n",
    "\n"
   ]
  },
  {
   "cell_type": "code",
   "execution_count": null,
   "metadata": {},
   "outputs": [],
   "source": [
    "def move_fixturedownload(startdate, enddate):\n",
    "    startdate = startdate.replace(\"/\", \"\")\n",
    "    enddate = enddate.replace(\"/\", \"\")\n",
    "    name = 'download_results_' + startdate + '_' + enddate + '.xlsx'\n",
    "    shutil.move('C:/Users/philc/Downloads/download_results.xlsx','C:/Users/philc/Documents/Python/Southborough stats/Southborough-CC-Stats/download_results.xlsx')\n",
    "    os.rename('download_results.xlsx', name)"
   ]
  },
  {
   "cell_type": "code",
   "execution_count": null,
   "metadata": {},
   "outputs": [],
   "source": [
    "def FixtureID_extract(startdate, enddate):\n",
    "    startdate = startdate.replace(\"/\", \"\")\n",
    "    enddate = enddate.replace(\"/\", \"\")\n",
    "    name = 'download_results_' + startdate + '_' + enddate + '.xlsx'\n",
    "    wb = openpyxl.load_workbook(name)\n",
    "    sheet = wb['Results']\n",
    "\n",
    "    FixtureIDs = []\n",
    "    for cellObj in list(sheet.columns)[13]:\n",
    "        if type(cellObj.value) == int:\n",
    "            FixtureIDs.append(cellObj.value)\n",
    "    return FixtureIDs"
   ]
  },
  {
   "cell_type": "code",
   "execution_count": null,
   "metadata": {},
   "outputs": [],
   "source": [
    "email_input, pwd_input, startdate, enddate = user_inputs()\n",
    "results_worksheet_download(email_input, pwd_input, startdate, enddate)\n",
    "time.sleep(5)\n",
    "move_fixturedownload(startdate, enddate)\n",
    "FixtureIDs = FixtureID_extract(startdate, enddate)\n",
    "print(FixtureIDs)"
   ]
  },
  {
   "cell_type": "code",
   "execution_count": null,
   "metadata": {},
   "outputs": [],
   "source": []
  }
 ],
 "metadata": {
  "kernelspec": {
   "display_name": "Python 3",
   "language": "python",
   "name": "python3"
  },
  "language_info": {
   "codemirror_mode": {
    "name": "ipython",
    "version": 3
   },
   "file_extension": ".py",
   "mimetype": "text/x-python",
   "name": "python",
   "nbconvert_exporter": "python",
   "pygments_lexer": "ipython3",
   "version": "3.8.3"
  }
 },
 "nbformat": 4,
 "nbformat_minor": 4
}
