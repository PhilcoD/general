{
 "cells": [
  {
   "cell_type": "code",
   "execution_count": 261,
   "id": "f8b95830-a4df-4884-8f72-2f98f254a5f9",
   "metadata": {},
   "outputs": [],
   "source": [
    "%load_ext autoreload\n",
    "%autoreload 2\n",
    "\n",
    "import json\n",
    "import math\n",
    "import re\n",
    "\n",
    "import numpy as np\n",
    "import pandas as pd\n",
    "\n",
    "import advent_of_code_2022 as aoc"
   ]
  },
  {
   "cell_type": "markdown",
   "id": "3ca96b86-791a-4e8e-8805-8bad20d6f4ac",
   "metadata": {
    "jp-MarkdownHeadingCollapsed": true,
    "tags": []
   },
   "source": [
    "### Day 6"
   ]
  },
  {
   "cell_type": "code",
   "execution_count": 212,
   "id": "3a735eeb-537b-425a-9715-91e4e5092e4f",
   "metadata": {},
   "outputs": [
    {
     "data": {
      "text/plain": [
       "2334"
      ]
     },
     "execution_count": 212,
     "metadata": {},
     "output_type": "execute_result"
    }
   ],
   "source": [
    "text = \"lrdrgrcggjrgrddfqfqrqppptrtssnqqqlzqqslspppsddfnnwgnnwhhjttnsnswnnbqbrrcqrqdqcdddlnddwwlmmlmtmwmggjgjmmmrppqhhswhwhmhchtchhsttvbtvvpspjjqrrgqrqmqvmvzmvzzrnnqlnlwlttjstjtjvjddrzzrnrmrbmbwwzppnqpqmmjnnvqnvvdzdpdvvmhvhhmshmsssvnnqppclcqlcqctqtfffvrfvrffptfftppncncwnntfntftdftfhfzzfwzzcddngdndccrttjmmcddrvrwwnntggghccjbjvbvjvlvjlvlgljlnjjtvjjfddmwwhnnqnrnccwllpmprmmspsvsrsslstsllpmllfzlflqltlssdbbdsdqsdqqgfgfjjtzjzmmsnsmnnzssgfgzgjgwwqfqtfthhhczzpwprwwqttqcqctcpcrrvwrvrggfvfqvvbqqhnnczcjjjfbfhbhjhssnwwfswszwwgbgzgczcbbvmvrrdgrddfwdffvsvtstztftfvfssgffnrnnzzqddltdtbdttnnfrnnfrfddpmpqqplqqbdbzbnnnrttjfttprtrllqhhwjhjghjjcrcqqznztzllldjjhqqspsfpfprrsfspsrrzbbjmjssnjnsjnjllbttgrtrnnqhhvjhvvrrplrprtrtprtrdtdfttwdttqtttwvtvtmtntnnfvfsfnndsnnnfqfmmcdmdppsmpmnnwhhlwwrvwrwvwlwnwhwjwvwbvwvnnqtnnttcgtccbggzgwzwczcpzcpzpzgzngnzzhfhdhzzzsggtssddgtdtndtdllpbpjpgjjsllvqvmmvjmvjvbbfzzbdzzghhzjzvvnffwsshqhqhjhmmtgmgpmgmpmzzzhtzzbzsbzsbzszvsvgsvspvsstwtgwgqgjggsfsmffhlhmhdmhmgmrmffjcjggqgsghgttjffprpmmscsggswssgzzsqzqjqwqjwqwswjjqpjpllwrwffvfbfpbffjsswgsshjsjqssqrrvcrrnvvdnnwndnffpdffjlffrjrlrqrmmlzlttpccgchggdjjhwwvqvvrprdrttlvvtlvtlvvvhqhwhmmpmrrjsrrzbzfzdzhdzzwgwwqllmmthmmvpprqprrzmrrfrmfrrmfmjmwwhtwhttnbbhbnnhbnnmhmgmjgmgfmmhpplwplwlswwjjbpbhpbbzmmgjmmggbzbssppjtttfmfwwcwmmbmrmbrblbmmszzvgvzgvgvdggjgsjgsjgghfgfngffsnfssdpdgpgrgnrggrlggdwgdgddfwddjdrrppnnqbnntmmrmlmrrgvvqjjwzzgnzzdtzzbccnbcbttbzzcqqrcqqpspbphbphhnpnccggczcgcpgcpctppqwpwccsgsttgtbttvftfcfbfvfppfpnpffmjmljmmrtrsrttnhhcvctclttrffhzhrzzdpzzwvwddcggpbptbpbzpzdpzddbjjdvvwmmfvfcfmfmmvrmvrmmcdmdqqhjqhqmmstmmdnnvssmbsmmnhmnmlmttlthtvhvvgbvgvbvqbvbvnbvvpwwhwsszpszppjljsllzhzcchmhdhphvvtpvvfssvmvcmmrjmmgfmfwmfmsspbbpnnsbsgbbzzllzzsqqswqqsbqqlvqlqzzbrzzqsqdqjqzqlqccqbqlblpprrthrttjzzfvzzpvpbppqjpjjtllmrmzzwnnrggpfpllwhhnmnpmmdppwnnwpnnzlzggvpvgpprdrzddlmddjndjjrljlsjshhqbbhhmhvhqhzqqlbqlqnqqmhmwmhwwgbwbpbhpbblnnshnshslllrcrncctnthtllmglmlmnmfnfllrbrmdqsncjfbjnghmvpctfzttqwsfptwhfhmdhzgbmrpqvsbbwdwdnqgclrgvdbqvtnzvlzmdjzgbhbtqjhrgqqjgwcvpqhhwsmmflgsjsvbnjcjcqwqqfcbvfrllbpphfglptjfczmnfnrmqdgrhbvrddwvhnbffsnzntvldrwmgqmqdbmmpdjhpdqfsbzsfbtdzlfjwtwfpfrhzcwwrcfpdjzjzqvcnhvdvlbdbjfrnmchdjprbfpzdtmjhdjtrwfrsghngbswhfzdfvhdmnqwnpspdjgsfcjjhrlnpncfdhzfzglgvrjlzdcncbfjhpnrvwnqbzhtdfcnpnpddsnjcbgdvzlsmpnlbftgjfsjsslljppjhtjfddmwbtrvmhvshnvhhfdsqhpmgzfrcqtpdmfcwglnbjzmtmzshzsrnbzlwlzdjzzsqfmjzbnprjdzswwcgjjwslhnfhbflvcpdfzwhzzjmfvpfhzbrcdvtlmbvrqvvtlpbdnshtsvlcnlwqzcnfhzndfjbhgwpvspdvhfptnfvwznscmgthspwpjfwlbbcrzgthrhnvscvfvwrwvtzpjqmwdbjjslvzlmqstzwqtsdsqqjpqthgnshpjncwgvppngvvfrjpztftgjbbmgdddrcgjggwpfrvfqbnzvwtscftbwfssmrgrbchjmvqcdgbdmmsswvplnvnjrnqzhttbzhlthzjslgtgrnqpghtbjnbftpdttvqhrljhnfqllrhfmzcnnwrljmchsvdbgvwmrpfzjsbngpffpgntrgflntbjnjwqbdhvhssvptdvvqvtrgqhhzrcfnnmbtzqrcghggcqhndggqzzgswflhqqrgmnggbrvpwqgtlptgmzdvgztgfqdzwnbrvvqhpnmcmptqljmqqmsslfcmgpnmnjmrsngrtbsffqbwlhsrwbzdcqvpbptpjphcjnwsmrjdbbrwftsnrgfhpjvsjcwpmpvfjtjvfnnwdjdttsjrqrgsznzqwjmsvscdtpptmdhqvwngtldtsnstjmwwrwwzdzvtndrrhgsgshzlpdrmlsgvplvbfrffvgvhmncbjdlqspbpdpcdsffrjzptltsznwwqbvnrwfdtrlbbvsmzjrhhvscqfwsqtmwnpjfgnjcttwphtqqhnvgjmzvczcrlmjjgwgnprcmmprltfrgrjlhvggdwvpnrqrtfwhpsfnjfvmvgzpmhrqmggldmsvztwcwzgblfbvbfvnshrdppzcvjwbjmsncwnbnjwbmwqjjwtjmwzpdvpwrfdtrqhnltgntvglgspvnbcsvnpppwmgphhsdqtpmrzmbdqlghsgjnnbhflzwghzzhdfsvjjcjfcssmvrmfqbgzcfwmhpvjqqrrhpsffczwgbjgwqlvzrvnhvzrqnfllqtrcjhmpdjfpqnlzhdnsctbfhsbpgwqdjdjhfbqzvzpsgmqwfjsffdjcqfmjgzqzvfsbhhvnwlfjfmdnphggdbnmpznlrzbnlbvhvplhjbzdmspnnlbctgzphghpngppdpdfbcdcpfntqlrwclsvnpljdbwcbhwzzdhbhsmslvvtjsmqmtpnhmmqnhfggnlpfthdhpwmrhzgfpwsffnrdqszcttrjsqzjqgspltfzzjnzwdfzvnmncwnphmjvcwlgrzcvpzcbndvhtjnfsgjtjdqfmgcgtgppsrcqwdjcqfddlhhnlfjrnsnssqblmnjjvmfbghtwwgcpgzfddvzsrsghqfrpvdtqmjfrzpvclmsnpmrqngdwvznlhdpbrzqtswfhnblnnbwjcwwbwfrgcdgrpphnslgnwbtfcgcmvvllwgvrcrdfcfwvwmdhhzmmnzmjgmgrgpdhngjgmhlqwtgzlngrbbfwfjrpwbqjnvdggrcfdgphfctvbmjnwfbpwrvbdbjrbhtnhfvhwvrptptsdrnzmnlwgbrwcswrccwdftgvjnvhffghdvhltjwhppfwfnmmtwclzzftzwvmhpmgvdsqzrfwqsmcgswnzjcnrvdgjlqdjrczphsvldlfzwdwmpncpvgqsvgpfpsfbgbmdhnfqbhdqwwwfdgqtmjlfbztsrwjrtqnrfpfqgplznpftrnjzhzcrnngqpwbrpbhlbfsgrpwfflrpbqdrqdplgcn\"\n",
    "\n",
    "d6_marker_start(text, 14)"
   ]
  },
  {
   "cell_type": "markdown",
   "id": "1c3d15cd-d3d8-4a0d-9fda-9e75254d1219",
   "metadata": {
    "jp-MarkdownHeadingCollapsed": true,
    "tags": []
   },
   "source": [
    "### Day 5"
   ]
  },
  {
   "cell_type": "code",
   "execution_count": 209,
   "id": "21fbe079-101c-48b2-8736-d14d580fe511",
   "metadata": {},
   "outputs": [],
   "source": [
    "crates = {\n",
    "    \"1\": [\"R\", \"G\", \"J\", \"B\", \"T\", \"V\", \"Z\"],\n",
    "    \"2\": [\"J\", \"R\", \"V\", \"L\"],\n",
    "    \"3\": [\"S\", \"Q\", \"F\"],\n",
    "    \"4\": [\"Z\", \"H\", \"N\", \"L\", \"F\", \"V\", \"Q\", \"G\"],\n",
    "    \"5\": [\"R\", \"Q\", \"T\", \"J\", \"C\", \"S\", \"M\", \"W\"],\n",
    "    \"6\": [\"S\", \"W\", \"T\", \"C\", \"H\", \"F\"],\n",
    "    \"7\": [\"D\", \"Z\", \"C\", \"V\", \"F\", \"N\", \"J\"],\n",
    "    \"8\": [\"L\", \"G\", \"Z\", \"D\", \"W\", \"R\", \"F\", \"Q\"],\n",
    "    \"9\": [\"J\", \"B\", \"W\", \"V\", \"P\"],\n",
    "}\n",
    "\n",
    "example = {\n",
    "    \"1\": [\"Z\", \"N\"],\n",
    "    \"2\": [\"M\", \"C\", \"D\"],\n",
    "    \"3\": [\"P\"]\n",
    "}"
   ]
  },
  {
   "cell_type": "code",
   "execution_count": 213,
   "id": "4dcb8c35-5952-4fc9-9656-a4e644c8ed3f",
   "metadata": {},
   "outputs": [],
   "source": [
    "example_text = \"\"\"move 1 from 2 to 1\n",
    "move 3 from 1 to 3\n",
    "move 2 from 2 to 1\n",
    "move 1 from 1 to 2\"\"\""
   ]
  },
  {
   "cell_type": "code",
   "execution_count": 214,
   "id": "53bfe609-e19b-42e9-9a62-69ac504ebb2b",
   "metadata": {},
   "outputs": [
    {
     "ename": "NameError",
     "evalue": "name 'example_instructions' is not defined",
     "output_type": "error",
     "traceback": [
      "\u001b[1;31m---------------------------------------------------------------------------\u001b[0m",
      "\u001b[1;31mNameError\u001b[0m                                 Traceback (most recent call last)",
      "Cell \u001b[1;32mIn [214], line 2\u001b[0m\n\u001b[0;32m      1\u001b[0m example_instructions_dict \u001b[38;5;241m=\u001b[39m d5_instruction_inputs(example_text)\n\u001b[1;32m----> 2\u001b[0m d5_crate_move(example, \u001b[43mexample_instructions\u001b[49m)\n",
      "\u001b[1;31mNameError\u001b[0m: name 'example_instructions' is not defined"
     ]
    }
   ],
   "source": [
    "example_instructions_dict = d5_instruction_inputs(example_text)\n",
    "d5_crate_move(example, example_instructions)"
   ]
  },
  {
   "cell_type": "code",
   "execution_count": 196,
   "id": "2e85f2d6-af65-4e56-8bb6-743955bc6ea6",
   "metadata": {},
   "outputs": [],
   "source": [
    "instructions_dict = d5_instruction_inputs(text)\n",
    "answer = d5_crate_move(crates, instructions_dict)"
   ]
  },
  {
   "cell_type": "code",
   "execution_count": 202,
   "id": "bbd91f51-2dbc-4b13-b3b4-21b92d6ca5fb",
   "metadata": {},
   "outputs": [
    {
     "data": {
      "text/plain": [
       "'ZSQVCCJLL'"
      ]
     },
     "execution_count": 202,
     "metadata": {},
     "output_type": "execute_result"
    }
   ],
   "source": [
    "answer_text = []\n",
    "for i in answer.keys():\n",
    "    answer_text.append(answer[i][-1])\n",
    "answer_text\n",
    "\"\".join(answer_text)"
   ]
  },
  {
   "cell_type": "code",
   "execution_count": 207,
   "id": "236a44d1-16bd-4229-8783-f5a3e74d19b9",
   "metadata": {},
   "outputs": [
    {
     "data": {
      "text/plain": [
       "{'1': ['M'], '2': ['C'], '3': ['P', 'Z', 'N', 'D']}"
      ]
     },
     "execution_count": 207,
     "metadata": {},
     "output_type": "execute_result"
    }
   ],
   "source": [
    "d5_crate_move_at_once(example, example_instructions_dict)"
   ]
  },
  {
   "cell_type": "code",
   "execution_count": 210,
   "id": "7bcfc345-5eed-40de-a521-632c6637783c",
   "metadata": {},
   "outputs": [
    {
     "data": {
      "text/plain": [
       "'QZFJRWHGS'"
      ]
     },
     "execution_count": 210,
     "metadata": {},
     "output_type": "execute_result"
    }
   ],
   "source": [
    "instructions_dict = d5_instruction_inputs(text)\n",
    "answer = d5_crate_move_at_once(crates, instructions_dict)\n",
    "\n",
    "answer_text = []\n",
    "for i in answer.keys():\n",
    "    answer_text.append(answer[i][-1])\n",
    "answer_text\n",
    "\"\".join(answer_text)\n"
   ]
  },
  {
   "cell_type": "markdown",
   "id": "cf4917a5-b3a9-4ddd-997d-3086e1eb7485",
   "metadata": {
    "jp-MarkdownHeadingCollapsed": true,
    "tags": []
   },
   "source": [
    "### Day 4"
   ]
  },
  {
   "cell_type": "code",
   "execution_count": 269,
   "id": "9f377c29-e39e-4651-8974-47213783aa33",
   "metadata": {},
   "outputs": [],
   "source": [
    "def d4_fully_contained_pairs(cleaning_pairs_dict):\n",
    "    overlapping_pairs = []\n",
    "    \n",
    "    for i in list(cleaning_pairs_dict.keys()):\n",
    "        elf_1_start = int(cleaning_pairs_dict[i][\"elf_1_start\"])\n",
    "        elf_1_end = int(cleaning_pairs_dict[i][\"elf_1_end\"])\n",
    "        elf_2_start = int(cleaning_pairs_dict[i][\"elf_2_start\"])\n",
    "        elf_2_end = int(cleaning_pairs_dict[i][\"elf_2_end\"])\n",
    "        \n",
    "        if elf_1_start>=elf_2_start and elf_2_end>=elf_1_end:\n",
    "            overlapping_pairs.append(i)\n",
    "        elif elf_2_start>=elf_1_start and elf_1_end>=elf_2_end:\n",
    "            overlapping_pairs.append(i)\n",
    "    return overlapping_pairs\n",
    "            "
   ]
  },
  {
   "cell_type": "code",
   "execution_count": 270,
   "id": "7cd4f3e9-49f0-4f17-8b67-ab86656ca94f",
   "metadata": {},
   "outputs": [
    {
     "data": {
      "text/plain": [
       "657"
      ]
     },
     "execution_count": 270,
     "metadata": {},
     "output_type": "execute_result"
    }
   ],
   "source": [
    "len(d4_fully_contained_pairs(a))"
   ]
  },
  {
   "cell_type": "code",
   "execution_count": 271,
   "id": "397ef5e1-78d6-4de9-9216-61a98fce3ff0",
   "metadata": {},
   "outputs": [
    {
     "data": {
      "text/plain": [
       "938"
      ]
     },
     "execution_count": 271,
     "metadata": {},
     "output_type": "execute_result"
    }
   ],
   "source": [
    "len(d4_overlapping_pairs(a))"
   ]
  },
  {
   "cell_type": "markdown",
   "id": "c89245bc-d863-4135-8232-7fde0791f3a1",
   "metadata": {
    "jp-MarkdownHeadingCollapsed": true,
    "tags": []
   },
   "source": [
    "### Day 7"
   ]
  },
  {
   "cell_type": "code",
   "execution_count": 1,
   "id": "296306a0-7588-45fb-b254-d011f863ae17",
   "metadata": {},
   "outputs": [
    {
     "ename": "NameError",
     "evalue": "name 'example_input' is not defined",
     "output_type": "error",
     "traceback": [
      "\u001b[1;31m---------------------------------------------------------------------------\u001b[0m",
      "\u001b[1;31mNameError\u001b[0m                                 Traceback (most recent call last)",
      "Cell \u001b[1;32mIn [1], line 18\u001b[0m\n\u001b[0;32m     15\u001b[0m     \u001b[38;5;28;01mreturn\u001b[39;00m list_of_lists, directories\n\u001b[0;32m     17\u001b[0m \u001b[38;5;66;03m# list_of_lists, directories = d7_inputs(real_input)\u001b[39;00m\n\u001b[1;32m---> 18\u001b[0m list_of_lists, directories \u001b[38;5;241m=\u001b[39m d7_inputs(\u001b[43mexample_input\u001b[49m)\n\u001b[0;32m     20\u001b[0m directory_dict \u001b[38;5;241m=\u001b[39m {}\n\u001b[0;32m     21\u001b[0m directory_nums \u001b[38;5;241m=\u001b[39m {}\n",
      "\u001b[1;31mNameError\u001b[0m: name 'example_input' is not defined"
     ]
    }
   ],
   "source": [
    "def d7_inputs(input_string):\n",
    "    input_string_new_lines = input_string.splitlines()\n",
    "    list_of_lists = []\n",
    "    directories = []\n",
    "    for i in range(len(input_string_new_lines)):\n",
    "        if \"$ ls\" in input_string_new_lines[i]:\n",
    "            hold_list = []\n",
    "            for j in input_string_new_lines[i+1:]:\n",
    "                if \"$\" in j:\n",
    "                    break\n",
    "                hold_list.append(j)\n",
    "            list_of_lists.append(hold_list)\n",
    "            directories.append(input_string_new_lines[i-1])\n",
    "   \n",
    "    return list_of_lists, directories\n",
    "\n",
    "# list_of_lists, directories = d7_inputs(real_input)\n",
    "list_of_lists, directories = d7_inputs(example_input)\n",
    "\n",
    "directory_dict = {}\n",
    "directory_nums = {}\n",
    "for i in range(len(directories)):\n",
    "    directory_name = directories[i][len(\"$ cd \"):]\n",
    "    directory_dict[directory_name] = {\n",
    "        \"files\": [],\n",
    "        \"directories\": [],\n",
    "        \"file_size\": 0,\n",
    "        \"directories_size\": 0,\n",
    "        }\n",
    "    for j in list_of_lists[i]:\n",
    "        if \"dir \" in j:\n",
    "            directory_dict[directory_name][\"directories\"].append(j[len(\"dir \"):])\n",
    "        else:\n",
    "            size_end_loc = j.find(\" \")\n",
    "            directory_dict[directory_name][\"files\"].append(float(j[:size_end_loc]))\n",
    "           \n",
    "    directory_dict[directory_name][\"file_size\"] = sum(directory_dict[directory_name][\"files\"])\n",
    "   \n",
    "    directory_nums[directory_name] = len(directory_dict[directory_name][\"directories\"])\n",
    "           \n",
    "           \n",
    "\n",
    "i=0\n",
    "while i <= max(directory_nums.values()):\n",
    "    directory_size_i = [directory for directory in directory_nums.keys() if directory_nums[directory]==i]\n",
    "   \n",
    "    for j in directory_size_i:\n",
    "        dict_sizes = [directory_dict[x][\"directories_size\"] for x in directory_dict[j][\"directories\"]]\n",
    "        file_sizes = [directory_dict[x][\"file_size\"] for x in directory_dict[j][\"directories\"]]\n",
    "        directory_dict[j][\"directories_size\"] = sum(dict_sizes) + sum(file_sizes)  \n",
    "    i=i+1\n",
    "\n",
    "file_size_list = []\n",
    "max_file_size = []\n",
    "\n",
    "for i in directory_dict.keys():\n",
    "    directory_size = directory_dict[i][\"file_size\"] + directory_dict[i][\"directories_size\"]\n",
    "    if directory_size <= 100000:\n",
    "        file_size_list.append(directory_size)\n",
    "        max_file_size.append(i)\n",
    "       \n",
    "total_file_size = sum(file_size_list)      \n",
    "total_file_size\n",
    "\n",
    "\n",
    "\n",
    "  "
   ]
  },
  {
   "cell_type": "markdown",
   "id": "ce0f02e2-15dc-4f11-874b-fdbe0d0cc4b8",
   "metadata": {
    "jp-MarkdownHeadingCollapsed": true,
    "tags": []
   },
   "source": [
    "### Day 9"
   ]
  },
  {
   "cell_type": "code",
   "execution_count": 12,
   "id": "a5421666-4ccc-4054-9d83-b0f0b58c5a92",
   "metadata": {},
   "outputs": [
    {
     "ename": "NameError",
     "evalue": "name 'example_input' is not defined",
     "output_type": "error",
     "traceback": [
      "\u001b[1;31m---------------------------------------------------------------------------\u001b[0m",
      "\u001b[1;31mNameError\u001b[0m                                 Traceback (most recent call last)",
      "Cell \u001b[1;32mIn [12], line 12\u001b[0m\n\u001b[0;32m      8\u001b[0m         instructions\u001b[38;5;241m.\u001b[39mappend([direction, distance])\n\u001b[0;32m     10\u001b[0m     \u001b[38;5;28;01mreturn\u001b[39;00m instructions\n\u001b[1;32m---> 12\u001b[0m instructions \u001b[38;5;241m=\u001b[39m d9_inputs(\u001b[43mexample_input\u001b[49m)\n\u001b[0;32m     13\u001b[0m \u001b[38;5;66;03m# instructions = d9_inputs(answer_input)\u001b[39;00m\n\u001b[0;32m     15\u001b[0m H \u001b[38;5;241m=\u001b[39m [\u001b[38;5;241m0\u001b[39m, \u001b[38;5;241m0\u001b[39m]\n",
      "\u001b[1;31mNameError\u001b[0m: name 'example_input' is not defined"
     ]
    }
   ],
   "source": [
    "def d9_inputs(input_string):\n",
    "   \n",
    "    splitlines = input_string.splitlines()\n",
    "    instructions = []\n",
    "    for i in splitlines:\n",
    "        direction = i[0]\n",
    "        distance = int(i[2:])\n",
    "        instructions.append([direction, distance])\n",
    "\n",
    "    return instructions\n",
    "\n",
    "instructions = d9_inputs(example_input)\n",
    "# instructions = d9_inputs(answer_input)\n",
    "\n",
    "H = [0, 0]\n",
    "T = [0, 0]\n",
    "T_locations = []\n",
    "H_locations = []\n",
    "\n",
    "for i in instructions:\n",
    "    count=0\n",
    "    if i[0] == \"R\":\n",
    "        for j in range(i[1]):\n",
    "            H_last = [H[0],H[1]]\n",
    "            H[0] += 1\n",
    "            if (abs(H[0]-T[0])>1 and abs(H[1]-T[1])==1) or (abs(H[0]-T[0])==1 and abs(H[1]-T[1])>1):\n",
    "                T = H_last\n",
    "            elif abs(H[0]-T[0])<=1 and abs(H[1]-T[1])<=1:\n",
    "                T=T\n",
    "            else:\n",
    "                T[0] += 1\n",
    "            T_locations.append([T[0],T[1]])\n",
    "            H_locations.append([H[0],H[1]])\n",
    "           \n",
    "    if i[0] == \"L\":\n",
    "        for j in range(i[1]):\n",
    "            H_last = [H[0],H[1]]\n",
    "            H[0] -= 1\n",
    "            if (abs(H[0]-T[0])>1 and abs(H[1]-T[1])==1) or (abs(H[0]-T[0])==1 and abs(H[1]-T[1])>1):\n",
    "                T = H_last\n",
    "            elif abs(H[0]-T[0])<=1 and abs(H[1]-T[1])<=1:\n",
    "                T=T\n",
    "            else:\n",
    "                T[0] -= 1\n",
    "            T_locations.append([T[0],T[1]])\n",
    "            H_locations.append([H[0],H[1]])\n",
    "           \n",
    "    if i[0] == \"U\":\n",
    "        for j in range(i[1]):\n",
    "            H_last = [H[0],H[1]]\n",
    "            H[1] += 1\n",
    "            if (abs(H[0]-T[0])>1 and abs(H[1]-T[1])==1) or (abs(H[0]-T[0])==1 and abs(H[1]-T[1])>1):\n",
    "                T = H_last\n",
    "            elif abs(H[0]-T[0])<=1 and abs(H[1]-T[1])<=1:\n",
    "                T=T\n",
    "            else:\n",
    "                T[1] += 1  \n",
    "            T_locations.append([T[0],T[1]])\n",
    "            H_locations.append([H[0],H[1]])\n",
    "           \n",
    "    if i[0] == \"D\":\n",
    "        for j in range(i[1]):\n",
    "            H_last = [H[0],H[1]]\n",
    "            H[1] -= 1\n",
    "            if (abs(H[0]-T[0])>1 and abs(H[1]-T[1])==1) or (abs(H[0]-T[0])==1 and abs(H[1]-T[1])>1):\n",
    "                T = H_last\n",
    "            elif abs(H[0]-T[0])<=1 and abs(H[1]-T[1])<=1:\n",
    "                T=T\n",
    "            else:\n",
    "                T[1] -= 1    \n",
    "            T_locations.append([T[0],T[1]])\n",
    "            H_locations.append([H[0],H[1]])\n",
    " \n",
    "len(set([tuple(x) for x in T_locations]))\n",
    "\n",
    "\n",
    "number_of_knots = 10\n",
    "knot_coordinates = [[0,0]]*number_of_knots\n",
    "knot_locations = [] \n",
    "\n",
    "           \n",
    "for i in instructions:\n",
    "    count=0\n",
    "    if i[0] == \"R\":\n",
    "        for j in range(i[1]):\n",
    "            hold = knot_coordinates\n",
    "            last_knot_coordinates = hold\n",
    "            knot_coordinates[0][0] += 1\n",
    "           \n",
    "            for k in range(1,number_of_knots):\n",
    "                if (abs(knot_coordinates[k-1][0]-knot_coordinates[k][0])>1 and abs(knot_coordinates[k-1][1]-knot_coordinates[k][1])==1) or (abs(knot_coordinates[k-1][0]-knot_coordinates[k][0])==1 and abs(knot_coordinates[k-1][1]-knot_coordinates[k][1])>1):\n",
    "                    knot_coordinates[k] = last_knot_coordinates[k-1]\n",
    "                elif abs(knot_coordinates[k-1][0]-knot_coordinates[k][0])<=1 and abs(knot_coordinates[k-1][1]-knot_coordinates[k][1])<=1:\n",
    "                    knot_coordinates[k]=knot_coordinates[k]\n",
    "                else:\n",
    "                    knot_coordinates[k][0] += 1\n",
    "                print(knot_coordinates)  "
   ]
  },
  {
   "cell_type": "code",
   "execution_count": 26,
   "id": "c117fd5e-d13c-4fdd-8ac1-1c29aa69b8a4",
   "metadata": {},
   "outputs": [],
   "source": [
    "d9_input_file_path = r'C:\\Users\\philc\\OneDrive\\Documents\\Programming\\Github\\general\\saved_files\\advent_of_code\\d9_input.txt'\n",
    "d9_example_input_file_path = r'C:\\Users\\philc\\OneDrive\\Documents\\Programming\\Github\\general\\saved_files\\advent_of_code\\d9_example_input.txt'"
   ]
  },
  {
   "cell_type": "code",
   "execution_count": 24,
   "id": "cebefd22-9ac8-4c5a-8f28-e70424183b11",
   "metadata": {},
   "outputs": [],
   "source": [
    "def d9_inputs(input_txt_path):\n",
    "    \n",
    "    with open(input_txt_path) as f:\n",
    "        input_string = f.read()\n",
    "    \n",
    "    splitlines = input_string.splitlines()\n",
    "    instructions = []\n",
    "    for i in splitlines:\n",
    "        direction = i[0]\n",
    "        distance = int(i[2:])\n",
    "        instructions.append([direction, distance])\n",
    "\n",
    "    return instructions"
   ]
  },
  {
   "cell_type": "code",
   "execution_count": 257,
   "id": "99a56985-2620-4096-8a6f-3162dcf0d808",
   "metadata": {},
   "outputs": [],
   "source": [
    "\n",
    "def d9_one_knot_movement(instruction_list):\n",
    "\n",
    "    movement_dict = {\n",
    "        \"R\": {\n",
    "            \"x_y\": 0,\n",
    "            \"direction\": 1\n",
    "        },\n",
    "        \"L\": {\n",
    "                \"x_y\": 0,\n",
    "                \"direction\": -1\n",
    "            },\n",
    "        \"U\": {\n",
    "                \"x_y\": 1,\n",
    "                \"direction\": 1\n",
    "            },\n",
    "        \"D\": {\n",
    "                \"x_y\": 1,\n",
    "                \"direction\": -1\n",
    "            },\n",
    "    }\n",
    "\n",
    "    H = [0, 0]\n",
    "    T = [0, 0]\n",
    "    T_locations = []\n",
    "    H_locations = []\n",
    "\n",
    "    for i in instructions:\n",
    "        count=0\n",
    "        for j in range(i[1]):\n",
    "            H_last = [H[0],H[1]]\n",
    "            H[movement_dict[i[0]][\"x_y\"]] += movement_dict[i[0]][\"direction\"]\n",
    "            if (abs(H[0]-T[0])>1 and abs(H[1]-T[1])==1) or (abs(H[0]-T[0])==1 and abs(H[1]-T[1])>1):\n",
    "                T = H_last\n",
    "            elif abs(H[0]-T[0])<=1 and abs(H[1]-T[1])<=1:\n",
    "                T=T\n",
    "            else:\n",
    "                T[movement_dict[i[0]][\"x_y\"]] += movement_dict[i[0]][\"direction\"]\n",
    "            T_locations.append([T[0],T[1]])\n",
    "            H_locations.append([H[0],H[1]])\n",
    "        \n",
    "    return len(set([tuple(x) for x in T_locations])), T_locations"
   ]
  },
  {
   "cell_type": "code",
   "execution_count": 258,
   "id": "1316db4a-f6a5-449a-bb21-3ec51d34d77d",
   "metadata": {},
   "outputs": [],
   "source": [
    "instructions = d9_inputs(d9_example_input_file_path)\n",
    "# instructions = d9_inputs(d9_input_file_path)"
   ]
  },
  {
   "cell_type": "code",
   "execution_count": 260,
   "id": "bb912afa-349e-4028-b657-ce59a7341e84",
   "metadata": {},
   "outputs": [],
   "source": [
    "a, b = d9_one_knot_movement(instructions)"
   ]
  },
  {
   "cell_type": "code",
   "execution_count": 78,
   "id": "9261deca-5615-4567-a62c-3bd267d1f5f4",
   "metadata": {},
   "outputs": [],
   "source": [
    "\n",
    "movement_dict = {\n",
    "    \"R\": {\n",
    "        \"x_y\": 0,\n",
    "        \"direction\": 1\n",
    "    },\n",
    "    \"L\": {\n",
    "            \"x_y\": 0,\n",
    "            \"direction\": -1\n",
    "        },\n",
    "    \"U\": {\n",
    "            \"x_y\": 1,\n",
    "            \"direction\": 1\n",
    "        },\n",
    "    \"D\": {\n",
    "            \"x_y\": 1,\n",
    "            \"direction\": -1\n",
    "        },\n",
    "}"
   ]
  },
  {
   "cell_type": "code",
   "execution_count": 252,
   "id": "78600a65-387b-4056-850f-f45b37a900b3",
   "metadata": {},
   "outputs": [],
   "source": [
    "number_of_knots = 10\n",
    "knot_coordinates = [[0,0]]*number_of_knots\n",
    "knot_locations = [] \n",
    "\n",
    "for i in instructions:\n",
    "    for j in range(i[1]):\n",
    "        knot_coordinates_last = knot_coordinates\n",
    "        knot_coordinates[0][movement_dict[i[0]][\"x_y\"]] += movement_dict[i[0]][\"direction\"]\n",
    "        knot_hold = []\n",
    "        knot_hold.append([knot_coordinates[0][0], knot_coordinates[0][1]])\n",
    "        for k in range(1,number_of_knots):\n",
    "            if (abs(knot_coordinates[k-1][0]-knot_coordinates[k][0])>1 and abs(knot_coordinates[k-1][1]-knot_coordinates[k][1])==1) or (abs(knot_coordinates[k-1][0]-knot_coordinates[k][0])==1 and abs(knot_coordinates[k-1][1]-knot_coordinates[k][1])>1):\n",
    "                knot_coordinates[k] = knot_coordinates_last[k-1]\n",
    "            elif abs(knot_coordinates[k-1][0]-knot_coordinates[k][0])<=1 and abs(knot_coordinates[k-1][1]-knot_coordinates[k][1])<=1:\n",
    "                knot_coordinates[k]=knot_coordinates[k]\n",
    "            else:\n",
    "                knot_coordinates[k][movement_dict[i[0]][\"x_y\"]] += movement_dict[i[0]][\"direction\"]\n",
    "            \n",
    "            knot_hold.append([knot_coordinates[k][0], knot_coordinates[k][1]])\n",
    "        knot_locations.append(knot_hold)"
   ]
  },
  {
   "cell_type": "code",
   "execution_count": 272,
   "id": "8e71d525-64ad-432b-a9fe-6022af47b889",
   "metadata": {},
   "outputs": [
    {
     "name": "stdout",
     "output_type": "stream",
     "text": [
      "within 1\n",
      "within 1\n",
      "diagonal\n",
      "within 1\n",
      "within 1\n",
      "within 1\n",
      "within 1\n",
      "within 1\n",
      "within 1\n",
      "diagonal\n",
      "within 1\n",
      "within 1\n",
      "within 1\n",
      "diagonal\n",
      "diagonal\n",
      "within 1\n",
      "within 1\n"
     ]
    }
   ],
   "source": [
    "number_of_knots = 2\n",
    "knot_coordinates_dict = {\"0\": [[]]*number_of_knots}\n",
    "for i in range(number_of_knots):\n",
    "    knot_coordinates_dict[\"0\"][i] = [0,0]\n",
    "\n",
    "count=1\n",
    "for i in instructions:\n",
    "    for j in range(i[1]):\n",
    "        last_coordinates = knot_coordinates_dict[str(count-1)]\n",
    "        new_coordinates=[]\n",
    "        head_coordinate = [knot_coordinates_dict[str(count-1)][0][0], knot_coordinates_dict[str(count-1)][0][1]]\n",
    "        head_coordinate[movement_dict[i[0]][\"x_y\"]] += movement_dict[i[0]][\"direction\"]\n",
    "        new_coordinates.append([head_coordinate[0],head_coordinate[1]])\n",
    "        \n",
    "        for k in range(1, number_of_knots):\n",
    "            coordinate_hold = [knot_coordinates_dict[str(count-1)][k][0], knot_coordinates_dict[str(count-1)][k][1]]\n",
    "            \n",
    "            if (abs(new_coordinates[-1][0]-coordinate_hold[0])>1 and abs(new_coordinates[-1][1]-coordinate_hold[1])==1) or (abs(new_coordinates[-1][0]-coordinate_hold[0])==1 and abs(new_coordinates[-1][1]-coordinate_hold[1])>1):\n",
    "                coordinate_hold = [knot_coordinates_dict[str(count-1)][k-1][0], knot_coordinates_dict[str(count-1)][k-1][0]]\n",
    "                print(\"diagonal\")\n",
    "            elif abs(new_coordinates[-1][0]-coordinate_hold[0])<=1 and abs(new_coordinates[-1][1]-coordinate_hold[1])<=1:\n",
    "                coordinate_hold=coordinate_hold\n",
    "                print(\"within 1\")\n",
    "            else:\n",
    "                coordinate_hold[movement_dict[i[0]][\"x_y\"]] += movement_dict[i[0]][\"direction\"]\n",
    "            new_coordinates.append(coordinate_hold)\n",
    "        \n",
    "        knot_coordinates_dict[str(count)] = new_coordinates\n",
    "        count += 1\n",
    "                                             \n",
    "        "
   ]
  },
  {
   "cell_type": "code",
   "execution_count": 273,
   "id": "398450e4-9787-4648-bdb3-c64530b160a1",
   "metadata": {},
   "outputs": [],
   "source": [
    "tail_loc = [knot_coordinates_dict[x][1] for x in knot_coordinates_dict.keys()]"
   ]
  },
  {
   "cell_type": "markdown",
   "id": "8ec64c0d-df26-461f-ad31-c7ca43dc5cc0",
   "metadata": {
    "jp-MarkdownHeadingCollapsed": true,
    "tags": []
   },
   "source": [
    "### Day 10"
   ]
  },
  {
   "cell_type": "code",
   "execution_count": 352,
   "id": "ef8b91c8-3d11-4b5c-a13b-9465788ad497",
   "metadata": {},
   "outputs": [],
   "source": [
    "d10_example_input_path = r'C:\\Users\\philc\\OneDrive\\Documents\\Programming\\Github\\general\\saved_files\\advent_of_code\\d10_example_input.txt'\n",
    "d10_input_path = r'C:\\Users\\philc\\OneDrive\\Documents\\Programming\\Github\\general\\saved_files\\advent_of_code\\d10_input.txt'\n"
   ]
  },
  {
   "cell_type": "code",
   "execution_count": 436,
   "id": "4eeb8382-6add-4224-91d3-6e6363d58efa",
   "metadata": {},
   "outputs": [],
   "source": [
    "commands = aoc.d10_inputs(d10_example_input_path)\n",
    "commands = aoc.d10_inputs(d10_input_path)\n",
    "# commands"
   ]
  },
  {
   "cell_type": "code",
   "execution_count": 437,
   "id": "98ebd87c-5f64-4f7c-bf84-5b4f48ee601c",
   "metadata": {},
   "outputs": [
    {
     "data": {
      "text/plain": [
       "17020"
      ]
     },
     "execution_count": 437,
     "metadata": {},
     "output_type": "execute_result"
    }
   ],
   "source": [
    "aoc.d10_signal_strength(commands)"
   ]
  },
  {
   "cell_type": "code",
   "execution_count": 438,
   "id": "b3437559-5ec5-4ae3-9647-a4466be9060c",
   "metadata": {},
   "outputs": [
    {
     "name": "stdout",
     "output_type": "stream",
     "text": [
      "###..#....####.####.####.#.....##..####.\n",
      "#..#.#....#.......#.#....#....#..#.#....\n",
      "#..#.#....###....#..###..#....#....###..\n",
      "###..#....#.....#...#....#....#.##.#....\n",
      "#.#..#....#....#....#....#....#..#.#....\n",
      "####.####.####.####.#....####..###.####.\n",
      "\n"
     ]
    }
   ],
   "source": [
    "aoc.d10_system_image(commands)"
   ]
  },
  {
   "cell_type": "markdown",
   "id": "acf5aa77-1572-4043-84b6-e772d650a314",
   "metadata": {
    "jp-MarkdownHeadingCollapsed": true,
    "tags": []
   },
   "source": [
    "### Day 11"
   ]
  },
  {
   "cell_type": "code",
   "execution_count": 16,
   "id": "df729c61-7de4-4b0f-98c9-c3d91e708201",
   "metadata": {},
   "outputs": [],
   "source": [
    "d11_example_input_path = r'C:\\Users\\philc\\OneDrive\\Documents\\Programming\\Github\\general\\saved_files\\advent_of_code\\d11_example_input.txt'\n",
    "d11_input_path = r'C:\\Users\\philc\\OneDrive\\Documents\\Programming\\Github\\general\\saved_files\\advent_of_code\\d11_input.txt'"
   ]
  },
  {
   "cell_type": "code",
   "execution_count": 17,
   "id": "ce012256-32b3-4ec9-af53-2ab0621667b5",
   "metadata": {},
   "outputs": [],
   "source": [
    "def d11_inputs(input_txt_path):\n",
    "    with open(input_txt_path) as f:\n",
    "        input_string = f.read()\n",
    "    splitlines = input_string.splitlines()\n",
    "    monkey_dict = dict()\n",
    "    for line in splitlines:\n",
    "        if line[:6] == \"Monkey\":\n",
    "            colon_loc = line.find(\":\")\n",
    "            monkey_num = line[7:colon_loc]\n",
    "            monkey_dict[monkey_num] = {\n",
    "                \"items\": [],\n",
    "                \"operation\": [\"\", \"\"],\n",
    "                \"test\": 0,\n",
    "                \"true\": \"\",\n",
    "                \"false\": \"\",\n",
    "                \"inspected_items\": 0,\n",
    "            }\n",
    "        if line[:17] == \"  Starting items:\":\n",
    "            monkey_dict[monkey_num][\"items\"] = [int(x) for x in re.findall(\"\\d+\", line[17:])]\n",
    "        if line[:12] == \"  Operation:\":\n",
    "            monkey_dict[monkey_num][\"operation\"][0] = line[23]\n",
    "            monkey_dict[monkey_num][\"operation\"][1] = line[25:]\n",
    "        if line[:7] == \"  Test:\":\n",
    "            monkey_dict[monkey_num][\"test\"] = int(line[21:])\n",
    "        if line[:11] == \"    If true\":\n",
    "            monkey_dict[monkey_num][\"true\"] = line[29:]\n",
    "        if line[:12] == \"    If false\":\n",
    "            monkey_dict[monkey_num][\"false\"] = line[30:]\n",
    "        \n",
    "    return monkey_dict\n"
   ]
  },
  {
   "cell_type": "code",
   "execution_count": 24,
   "id": "687e27af-cb8d-4199-b3bb-2e3f32313e33",
   "metadata": {},
   "outputs": [],
   "source": [
    "monkey_dict = d11_inputs(d11_example_input_path)\n",
    "monkey_dict = d11_inputs(d11_input_path)\n"
   ]
  },
  {
   "cell_type": "code",
   "execution_count": 19,
   "id": "be986c95-8d87-4662-9956-4d92645422f5",
   "metadata": {},
   "outputs": [
    {
     "data": {
      "text/plain": [
       "{'0': {'items': [79, 98],\n",
       "  'operation': ['*', '19'],\n",
       "  'test': 23,\n",
       "  'true': '2',\n",
       "  'false': '3',\n",
       "  'inspected_items': 0},\n",
       " '1': {'items': [54, 65, 75, 74],\n",
       "  'operation': ['+', '6'],\n",
       "  'test': 19,\n",
       "  'true': '2',\n",
       "  'false': '0',\n",
       "  'inspected_items': 0},\n",
       " '2': {'items': [79, 60, 97],\n",
       "  'operation': ['*', 'old'],\n",
       "  'test': 13,\n",
       "  'true': '1',\n",
       "  'false': '3',\n",
       "  'inspected_items': 0},\n",
       " '3': {'items': [74],\n",
       "  'operation': ['+', '3'],\n",
       "  'test': 17,\n",
       "  'true': '0',\n",
       "  'false': '1',\n",
       "  'inspected_items': 0}}"
      ]
     },
     "execution_count": 19,
     "metadata": {},
     "output_type": "execute_result"
    }
   ],
   "source": [
    "monkey_dict"
   ]
  },
  {
   "cell_type": "code",
   "execution_count": null,
   "id": "df178d9c-85ad-4d70-8854-b8e77c73eef5",
   "metadata": {},
   "outputs": [
    {
     "name": "stdout",
     "output_type": "stream",
     "text": [
      "1\n",
      "51\n",
      "101\n",
      "151\n",
      "201\n",
      "251\n",
      "301\n",
      "351\n",
      "401\n",
      "451\n",
      "501\n",
      "551\n",
      "601\n",
      "651\n",
      "701\n",
      "751\n",
      "801\n",
      "851\n"
     ]
    }
   ],
   "source": [
    "number_of_rounds = 20\n",
    "for i in range(number_of_rounds):\n",
    "    # print([len(monkey_dict[x][\"items\"]) for x in monkey_dict.keys()])\n",
    "    for monkey in monkey_dict.keys():\n",
    "        operation = monkey_dict[monkey][\"operation\"]\n",
    "        test = monkey_dict[monkey][\"test\"]\n",
    "        true_monkey = monkey_dict[monkey][\"true\"]\n",
    "        false_monkey = monkey_dict[monkey][\"false\"]\n",
    "        \n",
    "        for item_num in range(len(monkey_dict[monkey][\"items\"])):\n",
    "            monkey_dict[monkey][\"inspected_items\"] += 1\n",
    "            item = monkey_dict[monkey][\"items\"][item_num]\n",
    "            if operation[0] == \"*\":\n",
    "                if operation[1] == \"old\":\n",
    "                    worry_level = item * item\n",
    "                else:\n",
    "                    worry_level = item * int(operation[1])\n",
    "            if operation[0] == \"+\":\n",
    "                if operation[1] == \"old\":\n",
    "                    worry_level = item + item\n",
    "                else:\n",
    "                    worry_level = item + int(operation[1])\n",
    "            # worry_level = math.floor(worry_level/3)\n",
    "            if worry_level%test == 0:\n",
    "                monkey_dict[true_monkey][\"items\"].append(worry_level)\n",
    "            if worry_level%test != 0:\n",
    "                monkey_dict[false_monkey][\"items\"].append(worry_level)\n",
    "        monkey_dict[monkey][\"items\"] = []\n",
    "inspected_items = [monkey_dict[x][\"inspected_items\"] for x in monkey_dict.keys()]\n",
    "inspected_items.sort()\n",
    "monkey_business = inspected_items[-1] * inspected_items[-2]\n",
    "monkey_business"
   ]
  },
  {
   "cell_type": "code",
   "execution_count": 11,
   "id": "dbc31dbe-22bf-42ac-b6d8-1a6626d8f93a",
   "metadata": {},
   "outputs": [],
   "source": [
    "# number_of_rounds = 10000\n",
    "# for i in range(number_of_rounds):\n",
    "#     print(i+1)\n",
    "#     for monkey in monkey_dict.keys():\n",
    "#         operation = monkey_dict[monkey][\"operation\"]\n",
    "#         test = monkey_dict[monkey][\"test\"]\n",
    "#         true_monkey = monkey_dict[monkey][\"true\"]\n",
    "#         false_monkey = monkey_dict[monkey][\"false\"]\n",
    "        \n",
    "#         for item_num in range(len(monkey_dict[monkey][\"items\"])):\n",
    "#             monkey_dict[monkey][\"inspected_items\"] += 1\n",
    "#             item = monkey_dict[monkey][\"items\"][item_num]\n",
    "#             if operation[0] == \"*\":\n",
    "#                 if operation[1] == \"old\":\n",
    "#                     worry_level = item * item\n",
    "#                 else:\n",
    "#                     worry_level = item * int(operation[1])\n",
    "#             if operation[0] == \"+\":\n",
    "#                 if operation[1] == \"old\":\n",
    "#                     worry_level = item + item\n",
    "#                 else:\n",
    "#                     worry_level = item + int(operation[1])\n",
    "#             if worry_level%test == 0:\n",
    "#                 monkey_dict[true_monkey][\"items\"].append(worry_level)\n",
    "#             if worry_level%test != 0:\n",
    "#                 monkey_dict[false_monkey][\"items\"].append(worry_level)\n",
    "#         monkey_dict[monkey][\"items\"] = []\n",
    "\n",
    "# inspected_items = [monkey_dict[x][\"inspected_items\"] for x in monkey_dict.keys()]\n",
    "# inspected_items.sort()\n",
    "# monkey_business = inspected_items[-1] * inspected_items[-2]\n",
    "# monkey_business"
   ]
  },
  {
   "cell_type": "code",
   "execution_count": 20,
   "id": "2b422c30-0d2b-497b-bbb0-7e715675c0b6",
   "metadata": {},
   "outputs": [
    {
     "data": {
      "text/plain": [
       "10605"
      ]
     },
     "execution_count": 20,
     "metadata": {},
     "output_type": "execute_result"
    }
   ],
   "source": [
    "number_of_rounds = 20\n",
    "cm = np.prod([monkey_dict[x][\"test\"] for x in monkey_dict.keys()])\n",
    "\n",
    "for i in range(number_of_rounds):\n",
    "    for monkey in monkey_dict.keys():\n",
    "        operation = monkey_dict[monkey][\"operation\"]\n",
    "        test = monkey_dict[monkey][\"test\"]\n",
    "        true_monkey = monkey_dict[monkey][\"true\"]\n",
    "        false_monkey = monkey_dict[monkey][\"false\"]\n",
    "        \n",
    "        if len(monkey_dict[monkey][\"items\"]) == 0:\n",
    "            continue\n",
    "        \n",
    "        items = pd.Series(monkey_dict[monkey][\"items\"])\n",
    "        monkey_dict[monkey][\"inspected_items\"] += len(items)\n",
    "        if operation[0] == \"*\":\n",
    "            if operation[1] == \"old\":\n",
    "                worry_level = items * items\n",
    "            else:\n",
    "                worry_level = items * int(operation[1])\n",
    "        if operation[0] == \"+\":\n",
    "            if operation[1] == \"old\":\n",
    "                worry_level = items + items\n",
    "            else:\n",
    "                worry_level = items + int(operation[1])\n",
    "        worry_level = np.floor(worry_level/3)\n",
    "        test_results = list(worry_level%test)\n",
    "        worry_level = worry_level%cm\n",
    "        for j in range(len(test_results)):\n",
    "            if test_results[j] == 0:\n",
    "                monkey_dict[true_monkey][\"items\"].append(list(worry_level)[j])\n",
    "            else:\n",
    "                monkey_dict[false_monkey][\"items\"].append(list(worry_level)[j])\n",
    "        \n",
    "\n",
    "        monkey_dict[monkey][\"items\"] = []\n",
    "\n",
    "inspected_items = [monkey_dict[x][\"inspected_items\"] for x in monkey_dict.keys()]\n",
    "inspected_items.sort()\n",
    "monkey_business = inspected_items[-1] * inspected_items[-2]\n",
    "monkey_business"
   ]
  },
  {
   "cell_type": "code",
   "execution_count": 25,
   "id": "3754107a-cd51-418a-8211-3f58719b9340",
   "metadata": {},
   "outputs": [
    {
     "data": {
      "text/plain": [
       "28244037010"
      ]
     },
     "execution_count": 25,
     "metadata": {},
     "output_type": "execute_result"
    }
   ],
   "source": [
    "number_of_rounds = 10000\n",
    "cm = np.prod([monkey_dict[x][\"test\"] for x in monkey_dict.keys()])\n",
    "\n",
    "for i in range(number_of_rounds):\n",
    "    for monkey in monkey_dict.keys():\n",
    "        operation = monkey_dict[monkey][\"operation\"]\n",
    "        test = monkey_dict[monkey][\"test\"]\n",
    "        true_monkey = monkey_dict[monkey][\"true\"]\n",
    "        false_monkey = monkey_dict[monkey][\"false\"]\n",
    "        \n",
    "        if len(monkey_dict[monkey][\"items\"]) == 0:\n",
    "            continue\n",
    "        \n",
    "        items = pd.Series(monkey_dict[monkey][\"items\"])\n",
    "        monkey_dict[monkey][\"inspected_items\"] += len(items)\n",
    "        if operation[0] == \"*\":\n",
    "            if operation[1] == \"old\":\n",
    "                worry_level = items * items\n",
    "            else:\n",
    "                worry_level = items * int(operation[1])\n",
    "        if operation[0] == \"+\":\n",
    "            if operation[1] == \"old\":\n",
    "                worry_level = items + items\n",
    "            else:\n",
    "                worry_level = items + int(operation[1])\n",
    "        test_results = list(worry_level%test)\n",
    "        worry_level = worry_level%cm\n",
    "        for j in range(len(test_results)):\n",
    "            if test_results[j] == 0:\n",
    "                monkey_dict[true_monkey][\"items\"].append(list(worry_level)[j])\n",
    "            else:\n",
    "                monkey_dict[false_monkey][\"items\"].append(list(worry_level)[j])\n",
    "        \n",
    "\n",
    "        monkey_dict[monkey][\"items\"] = []\n",
    "\n",
    "inspected_items = [monkey_dict[x][\"inspected_items\"] for x in monkey_dict.keys()]\n",
    "inspected_items.sort()\n",
    "monkey_business = inspected_items[-1] * inspected_items[-2]\n",
    "monkey_business"
   ]
  },
  {
   "cell_type": "markdown",
   "id": "0af8fe13-95b1-459f-ad0a-3398646acd38",
   "metadata": {
    "jp-MarkdownHeadingCollapsed": true,
    "tags": []
   },
   "source": [
    "### Day 12"
   ]
  },
  {
   "cell_type": "code",
   "execution_count": 2,
   "id": "1abe98c3-332e-4011-8781-92f4f8db4377",
   "metadata": {},
   "outputs": [],
   "source": [
    "d12_example_input_path = r'C:\\Users\\philc\\OneDrive\\Documents\\Programming\\Github\\general\\saved_files\\advent_of_code\\d12_example_input.txt'\n",
    "d12_input_path = r'C:\\Users\\philc\\OneDrive\\Documents\\Programming\\Github\\general\\saved_files\\advent_of_code\\d12_input.txt'"
   ]
  },
  {
   "cell_type": "code",
   "execution_count": 3,
   "id": "ab3bbc9b-e4e0-4bc9-b97f-3f6db3bd5770",
   "metadata": {},
   "outputs": [],
   "source": [
    "input_txt_path = d12_example_input_path"
   ]
  },
  {
   "cell_type": "code",
   "execution_count": 158,
   "id": "da2b16e0-b9a2-462a-a186-7f1d37d2e1fc",
   "metadata": {},
   "outputs": [],
   "source": [
    "def d12_input(input_txt_path):\n",
    "    with open(input_txt_path) as f:\n",
    "        input_string = f.read()\n",
    "    splitlines = input_string.splitlines()\n",
    "    vertices = [list(x) for x in splitlines]\n",
    "    number_of_rows = len(vertices)\n",
    "    number_of_columns = len(vertices[0])\n",
    "\n",
    "    vertices_dict = {}\n",
    "\n",
    "    for row in range(number_of_rows):\n",
    "        for column in range(number_of_columns):\n",
    "            coordinate = (row,column)\n",
    "            vertices_dict[coordinate] = {\n",
    "                \"letter\": vertices[row][column],\n",
    "                \"start_point\": False,\n",
    "                \"end_point\": False,\n",
    "                \"connections\": {},\n",
    "            }\n",
    "            if vertices_dict[coordinate][\"letter\"] == \"S\":\n",
    "                vertices_dict[coordinate][\"start_point\"] = True\n",
    "                start_coordinate = coordinate\n",
    "\n",
    "                if (row-1) in range(0, number_of_rows):\n",
    "                    if vertices[row-1][column] == \"a\":\n",
    "                        vertices_dict[coordinate][\"connections\"][(row-1, column)] = 1\n",
    "                if (row+1) in range(0, number_of_rows):\n",
    "                    if vertices[row+1][column] == \"a\":\n",
    "                        vertices_dict[coordinate][\"connections\"][(row+1, column)] = 1\n",
    "                if (column-1) in range(0, number_of_columns):\n",
    "                    if vertices[row][column-1] == \"a\":\n",
    "                        vertices_dict[coordinate][\"connections\"][(row, column-1)] = 1\n",
    "                if (column+1) in range(0, number_of_columns):\n",
    "                    if vertices[row][column+1] == \"a\":\n",
    "                        vertices_dict[coordinate][\"connections\"][(row, column+1)] = 1\n",
    "\n",
    "\n",
    "            if vertices_dict[coordinate][\"letter\"] == \"E\":\n",
    "                vertices_dict[coordinate][\"end_point\"] = True\n",
    "                end_coordinate = coordinate\n",
    "\n",
    "                if (row-1) in range(0, number_of_rows):\n",
    "                    if vertices[row-1][column] == \"z\":\n",
    "                        vertices_dict[coordinate][\"connections\"][(row-1, column)] = 1\n",
    "                if (row+1) in range(0, number_of_rows):\n",
    "                    if vertices[row+1][column] == \"z\":\n",
    "                        vertices_dict[coordinate][\"connections\"][(row+1, column)] = 1\n",
    "                if (column-1) in range(0, number_of_columns):\n",
    "                    if vertices[row][column-1] == \"z\":\n",
    "                        vertices_dict[coordinate][\"connections\"][(row, column-1)] = 1\n",
    "                if (column+1) in range(0, number_of_columns):\n",
    "                    if vertices[row][column+1] == \"z\":\n",
    "                        vertices_dict[coordinate][\"connections\"][(row, column+1)] = 1\n",
    "\n",
    "            if vertices_dict[coordinate][\"letter\"] == \"a\":         \n",
    "                if (row-1) in range(0, number_of_rows):\n",
    "                    if vertices[row-1][column] == \"S\":\n",
    "                        vertices_dict[coordinate][\"connections\"][(row-1, column)] = 1\n",
    "                if (row+1) in range(0, number_of_rows):\n",
    "                    if vertices[row+1][column] == \"S\":\n",
    "                        vertices_dict[coordinate][\"connections\"][(row+1, column)] = 1\n",
    "                if (column-1) in range(0, number_of_columns):\n",
    "                    if vertices[row][column-1] == \"S\":\n",
    "                        vertices_dict[coordinate][\"connections\"][(row, column-1)] = 1\n",
    "                if (column+1) in range(0, number_of_columns):\n",
    "                    if vertices[row][column+1] == \"S\":\n",
    "                        vertices_dict[coordinate][\"connections\"][(row, column+1)] = 1\n",
    "\n",
    "            if vertices_dict[coordinate][\"letter\"] == \"z\":         \n",
    "                if (row-1) in range(0, number_of_rows):\n",
    "                    if vertices[row-1][column] == \"E\":\n",
    "                        vertices_dict[coordinate][\"connections\"][(row-1, column)] = 1\n",
    "                if (row+1) in range(0, number_of_rows):\n",
    "                    if vertices[row+1][column] == \"E\":\n",
    "                        vertices_dict[coordinate][\"connections\"][(row+1, column)] = 1\n",
    "                if (column-1) in range(0, number_of_columns):\n",
    "                    if vertices[row][column-1] == \"E\":\n",
    "                        vertices_dict[coordinate][\"connections\"][(row, column-1)] = 1\n",
    "                if (column+1) in range(0, number_of_columns):\n",
    "                    if vertices[row][column+1] == \"E\":\n",
    "                        vertices_dict[coordinate][\"connections\"][(row, column+1)] = 1\n",
    "\n",
    "            if (row-1) in range(0, number_of_rows):\n",
    "                if abs(ord(vertices[row][column]) - ord(vertices[row-1][column]))<=1:\n",
    "                    vertices_dict[coordinate][\"connections\"][(row-1, column)] = 1\n",
    "            if (row+1) in range(0, number_of_rows):\n",
    "                if abs(ord(vertices[row][column]) - ord(vertices[row+1][column]))<=1:\n",
    "                    vertices_dict[coordinate][\"connections\"][(row+1, column)] = 1\n",
    "            if (column-1) in range(0, number_of_columns):\n",
    "                if abs(ord(vertices[row][column]) - ord(vertices[row][column-1]))<=1:\n",
    "                    vertices_dict[coordinate][\"connections\"][(row, column-1)] = 1\n",
    "            if (column+1) in range(0, number_of_columns):\n",
    "                if abs(ord(vertices[row][column]) - ord(vertices[row][column+1]))<=1:\n",
    "                    vertices_dict[coordinate][\"connections\"][(row, column+1)] = 1\n",
    "    \n",
    "    return vertices_dict, start_coordinate, end_coordinate, number_of_rows, number_of_columns, vertices"
   ]
  },
  {
   "cell_type": "code",
   "execution_count": 159,
   "id": "2e2a4c65-a0c4-462c-a243-5603f3469312",
   "metadata": {},
   "outputs": [
    {
     "data": {
      "text/plain": [
       "8"
      ]
     },
     "execution_count": 159,
     "metadata": {},
     "output_type": "execute_result"
    }
   ],
   "source": [
    "number_of_columns"
   ]
  },
  {
   "cell_type": "code",
   "execution_count": 210,
   "id": "d44bb2a2-93ea-4500-9a56-6a4df4ee81a2",
   "metadata": {},
   "outputs": [],
   "source": [
    "vertices_dict, start_coordinate, end_coordinate, number_of_rows, number_of_columns, vertices = d12_input(d12_example_input_path)\n",
    "vertices_dict, start_coordinate, end_coordinate, number_of_rows, number_of_columns, vertices = d12_input(d12_input_path)"
   ]
  },
  {
   "cell_type": "code",
   "execution_count": 211,
   "id": "5244b78c-7428-4bb0-814b-67a236deee1f",
   "metadata": {},
   "outputs": [],
   "source": [
    "max_distance = 1 * (number_of_rows+1) * (number_of_columns+1)\n",
    "shortest_path_dict = {key:{\"path\": [], \"distance\": None, \"visited\": False} for key in vertices_dict.keys()}"
   ]
  },
  {
   "cell_type": "code",
   "execution_count": 212,
   "id": "0646149a-de8c-417c-9b6e-2a8e9200cdb6",
   "metadata": {},
   "outputs": [],
   "source": [
    "list_of_vertices = [end_coordinate]\n",
    "shortest_path_dict[end_coordinate][\"distance\"] = 0"
   ]
  },
  {
   "cell_type": "code",
   "execution_count": 213,
   "id": "52e69e8a-d6a1-4c4d-b756-6912111488e8",
   "metadata": {},
   "outputs": [
    {
     "ename": "KeyboardInterrupt",
     "evalue": "",
     "output_type": "error",
     "traceback": [
      "\u001b[1;31m---------------------------------------------------------------------------\u001b[0m",
      "\u001b[1;31mKeyboardInterrupt\u001b[0m                         Traceback (most recent call last)",
      "Cell \u001b[1;32mIn [213], line 23\u001b[0m\n\u001b[0;32m     21\u001b[0m \u001b[38;5;28;01mif\u001b[39;00m \u001b[38;5;28mlen\u001b[39m(list_of_vertices)\u001b[38;5;241m==\u001b[39m\u001b[38;5;241m0\u001b[39m:\n\u001b[0;32m     22\u001b[0m     flag \u001b[38;5;241m=\u001b[39m \u001b[38;5;28;01mFalse\u001b[39;00m\n\u001b[1;32m---> 23\u001b[0m \u001b[38;5;28;01mif\u001b[39;00m \u001b[38;5;28;01mFalse\u001b[39;00m \u001b[38;5;129;01mnot\u001b[39;00m \u001b[38;5;129;01min\u001b[39;00m [shortest_path_dict[x][\u001b[38;5;124m\"\u001b[39m\u001b[38;5;124mvisited\u001b[39m\u001b[38;5;124m\"\u001b[39m] \u001b[38;5;28;01mfor\u001b[39;00m x \u001b[38;5;129;01min\u001b[39;00m shortest_path_dict\u001b[38;5;241m.\u001b[39mkeys()]:\n\u001b[0;32m     24\u001b[0m     flag \u001b[38;5;241m=\u001b[39m \u001b[38;5;28;01mFalse\u001b[39;00m\n",
      "Cell \u001b[1;32mIn [213], line 23\u001b[0m, in \u001b[0;36m<listcomp>\u001b[1;34m(.0)\u001b[0m\n\u001b[0;32m     21\u001b[0m \u001b[38;5;28;01mif\u001b[39;00m \u001b[38;5;28mlen\u001b[39m(list_of_vertices)\u001b[38;5;241m==\u001b[39m\u001b[38;5;241m0\u001b[39m:\n\u001b[0;32m     22\u001b[0m     flag \u001b[38;5;241m=\u001b[39m \u001b[38;5;28;01mFalse\u001b[39;00m\n\u001b[1;32m---> 23\u001b[0m \u001b[38;5;28;01mif\u001b[39;00m \u001b[38;5;28;01mFalse\u001b[39;00m \u001b[38;5;129;01mnot\u001b[39;00m \u001b[38;5;129;01min\u001b[39;00m [shortest_path_dict[x][\u001b[38;5;124m\"\u001b[39m\u001b[38;5;124mvisited\u001b[39m\u001b[38;5;124m\"\u001b[39m] \u001b[38;5;28;01mfor\u001b[39;00m x \u001b[38;5;129;01min\u001b[39;00m shortest_path_dict\u001b[38;5;241m.\u001b[39mkeys()]:\n\u001b[0;32m     24\u001b[0m     flag \u001b[38;5;241m=\u001b[39m \u001b[38;5;28;01mFalse\u001b[39;00m\n",
      "\u001b[1;31mKeyboardInterrupt\u001b[0m: "
     ]
    }
   ],
   "source": [
    "flag = True\n",
    "while flag:\n",
    "    for current_vertex in list_of_vertices:\n",
    "        for path in vertices_dict[current_vertex][\"connections\"].keys():\n",
    "            path_distance = vertices_dict[current_vertex][\"connections\"][path]\n",
    "            full_path_distance = path_distance + shortest_path_dict[current_vertex][\"distance\"]\n",
    "\n",
    "            if shortest_path_dict[path][\"distance\"] is None:\n",
    "                shortest_path_dict[path][\"distance\"] = full_path_distance\n",
    "                shortest_path_dict[path][\"path\"] += [current_vertex] + shortest_path_dict[current_vertex][\"path\"]\n",
    "            elif full_path_distance < shortest_path_dict[path][\"distance\"]:\n",
    "                shortest_path_dict[path][\"distance\"] = full_path_distance\n",
    "                print(shortest_path_dict[current_vertex][\"path\"])\n",
    "                shortest_path_dict[path][\"path\"] += [current_vertex] + shortest_path_dict[current_vertex][\"path\"]\n",
    "        shortest_path_dict[current_vertex][\"visited\"] = True\n",
    "        \n",
    "    list_of_vertices += list(vertices_dict[current_vertex][\"connections\"].keys())\n",
    "    for i in list_of_vertices:\n",
    "        if shortest_path_dict[i][\"visited\"]:\n",
    "            list_of_vertices.remove(i)\n",
    "    if len(list_of_vertices)==0:\n",
    "        flag = False\n",
    "    if False not in [shortest_path_dict[x][\"visited\"] for x in shortest_path_dict.keys()]:\n",
    "        flag = False\n",
    "    \n",
    "\n",
    "            "
   ]
  },
  {
   "cell_type": "markdown",
   "id": "518c3a82-da8b-4f29-8eb7-78a4da9a151b",
   "metadata": {
    "jp-MarkdownHeadingCollapsed": true,
    "tags": []
   },
   "source": [
    "### Day 13"
   ]
  },
  {
   "cell_type": "code",
   "execution_count": 217,
   "id": "fe390ab9-4cd7-4743-b28c-a40fda46ce69",
   "metadata": {},
   "outputs": [],
   "source": [
    "d13_example_input_path = r'C:\\Users\\philc\\OneDrive\\Documents\\Programming\\Github\\general\\saved_files\\advent_of_code\\d13_example_input.txt'\n",
    "d13_input_path = r'C:\\Users\\philc\\OneDrive\\Documents\\Programming\\Github\\general\\saved_files\\advent_of_code\\d13_input.txt'"
   ]
  },
  {
   "cell_type": "code",
   "execution_count": 218,
   "id": "60c2b432-e794-4cec-9d4e-293e9961cd23",
   "metadata": {},
   "outputs": [],
   "source": [
    "input_txt_path = d13_example_input_path"
   ]
  },
  {
   "cell_type": "code",
   "execution_count": 271,
   "id": "2c667fbf-b133-4a08-89b7-d2d33adcbe99",
   "metadata": {},
   "outputs": [],
   "source": [
    "def d13_inputs(input_txt_path):\n",
    "    with open(input_txt_path) as f:\n",
    "        input_string = f.read()\n",
    "    splitlines = input_string.splitlines()\n",
    "    pair_list = []\n",
    "    pair = []\n",
    "    splitlines.append(\"\")\n",
    "    for i in range(len(splitlines)):\n",
    "        if splitlines[i] == \"\":\n",
    "            pair_list.append(pair)\n",
    "            pair = []\n",
    "            continue\n",
    "        pair.append(eval(splitlines[i]))\n",
    "    return pair_list"
   ]
  },
  {
   "cell_type": "code",
   "execution_count": 272,
   "id": "b682b6cb-802f-4bd6-9e23-e841b335fab4",
   "metadata": {},
   "outputs": [],
   "source": [
    "pair_list = d13_inputs(d13_input_path)\n",
    "pair_list = d13_inputs(d13_example_input_path)"
   ]
  },
  {
   "cell_type": "code",
   "execution_count": 292,
   "id": "597d39a3-792d-4493-b6c3-37b711382652",
   "metadata": {},
   "outputs": [
    {
     "name": "stdout",
     "output_type": "stream",
     "text": [
      "5 v 5\n",
      "2 v 2\n",
      "1 v 1\n",
      "3 v 4\n",
      "4 v 3\n",
      "0 v 1\n",
      "1 v 1\n",
      "4 v 4\n"
     ]
    }
   ],
   "source": [
    "right_order_pairs = []\n",
    "for i in range(len(pair_list)):\n",
    "    packet_1 = pair_list[i][0]\n",
    "    packet_2 = pair_list[i][1]\n",
    "    \n",
    "    print(f\"{len(packet_1)} v {len(packet_2)}\")"
   ]
  },
  {
   "cell_type": "code",
   "execution_count": 304,
   "id": "8a57abcd-5778-4bec-a346-dad16292a6f8",
   "metadata": {},
   "outputs": [
    {
     "data": {
      "text/plain": [
       "True"
      ]
     },
     "execution_count": 304,
     "metadata": {},
     "output_type": "execute_result"
    }
   ],
   "source": []
  },
  {
   "cell_type": "markdown",
   "id": "3387c046-9029-4c5e-bc73-7b264f51ed49",
   "metadata": {},
   "source": [
    "### Day 14"
   ]
  },
  {
   "cell_type": "code",
   "execution_count": 558,
   "id": "f4d243f0-4b1d-4394-a5d6-720f67025633",
   "metadata": {},
   "outputs": [],
   "source": [
    "d14_example_input_path = r'C:\\Users\\philc\\OneDrive\\Documents\\Programming\\Github\\general\\saved_files\\advent_of_code\\d14_example_input.txt'\n",
    "d14_input_path = r'C:\\Users\\philc\\OneDrive\\Documents\\Programming\\Github\\general\\saved_files\\advent_of_code\\d14_input.txt'"
   ]
  },
  {
   "cell_type": "code",
   "execution_count": 559,
   "id": "fd4e5628-a95a-4fe8-8a19-7afdad1b3c82",
   "metadata": {},
   "outputs": [],
   "source": [
    "with open(d14_example_input_path) as f:\n",
    "    input_string = f.read()\n",
    "splitlines = input_string.splitlines()\n",
    "rocks = []\n",
    "for i in splitlines:\n",
    "    rock = re.findall(\"\\d+,\\d+\", i)\n",
    "    coords = []\n",
    "    for loc in rock:\n",
    "        comma = loc.find(\",\")\n",
    "        x = int(loc[:comma])\n",
    "        y = int(loc[comma+1:])\n",
    "        coords.append((x,y))\n",
    "    rocks.append(coords)"
   ]
  },
  {
   "cell_type": "code",
   "execution_count": 560,
   "id": "01add7bc-32b2-492c-8a7c-fe5d946fb249",
   "metadata": {},
   "outputs": [
    {
     "data": {
      "text/plain": [
       "[[(498, 4), (498, 6), (496, 6)], [(503, 4), (502, 4), (502, 9), (494, 9)]]"
      ]
     },
     "execution_count": 560,
     "metadata": {},
     "output_type": "execute_result"
    }
   ],
   "source": [
    "rocks"
   ]
  },
  {
   "cell_type": "code",
   "execution_count": 561,
   "id": "b476faee-77e0-4562-b690-f6932914cd40",
   "metadata": {},
   "outputs": [],
   "source": [
    "rock_locations = []\n",
    "for rock in rocks:\n",
    "    for i in range(len(rock)-1):\n",
    "        if rock[i][0] == rock[i+1][0]:\n",
    "            if rock[i][1] <= rock[i+1][1]:\n",
    "                rock_locations += [(rock[i][0],y) for y in range(rock[i][1], rock[i+1][1]+1)]\n",
    "            else:\n",
    "                rock_locations += [(rock[i][0],y) for y in range(rock[i+1][1], rock[i][1]+1)]\n",
    "        if rock[i][1] == rock[i+1][1]:\n",
    "            if rock[i][0]<=rock[i+1][0]: \n",
    "                rock_locations += [(x, rock[i][1]) for x in range(rock[i][0], rock[i+1][0]+1)]\n",
    "            else:\n",
    "                rock_locations += [(x, rock[i][1]) for x in range(rock[i+1][0], rock[i][0]+1)]\n",
    "            \n",
    "            \n",
    "             "
   ]
  },
  {
   "cell_type": "code",
   "execution_count": 562,
   "id": "f1160b52-b364-4eb9-8ea5-fecdf7dc8431",
   "metadata": {},
   "outputs": [],
   "source": [
    "x_list = [x[0] for x in rock_locations]\n",
    "y_list = [y[1] for y in rock_locations]\n",
    "x_min = min(x_list)\n",
    "x_max = max(x_list)\n",
    "x_range = x_max-x_min\n",
    "y_min = min(y_list)\n",
    "y_max = max(y_list)\n",
    "y_range = y_max-y_min\n"
   ]
  },
  {
   "cell_type": "code",
   "execution_count": 563,
   "id": "18339560-d1d8-43f0-9861-226329d5d9fe",
   "metadata": {},
   "outputs": [
    {
     "name": "stdout",
     "output_type": "stream",
     "text": [
      "..........\n",
      "..........\n",
      "..........\n",
      "..........\n",
      "....#...##\n",
      "....#...#.\n",
      "..###...#.\n",
      "........#.\n",
      "........#.\n",
      "#########.\n"
     ]
    }
   ],
   "source": [
    "x_rows = x_range+1\n",
    "y_rows = y_max+1\n",
    "cave = []\n",
    "for y in range(y_rows):\n",
    "    row = []\n",
    "    for x in range(x_rows):\n",
    "        if (x+x_min, y) in rock_locations:\n",
    "            row.append(\"#\")\n",
    "        else:\n",
    "            row.append(\".\")\n",
    "    cave.append(row)\n",
    "for i in cave:\n",
    "    print(\"\".join(i))"
   ]
  },
  {
   "cell_type": "code",
   "execution_count": 587,
   "id": "43b92c4a-f01e-4332-ab0f-6454ab55281b",
   "metadata": {},
   "outputs": [
    {
     "ename": "KeyboardInterrupt",
     "evalue": "",
     "output_type": "error",
     "traceback": [
      "\u001b[1;31m---------------------------------------------------------------------------\u001b[0m",
      "\u001b[1;31mKeyboardInterrupt\u001b[0m                         Traceback (most recent call last)",
      "Cell \u001b[1;32mIn [587], line 12\u001b[0m\n\u001b[0;32m     10\u001b[0m \u001b[38;5;28;01melif\u001b[39;00m (current_coord[\u001b[38;5;241m0\u001b[39m]\u001b[38;5;241m-\u001b[39m\u001b[38;5;241m1\u001b[39m, current_coord[\u001b[38;5;241m1\u001b[39m]\u001b[38;5;241m+\u001b[39m\u001b[38;5;241m1\u001b[39m) \u001b[38;5;129;01mnot\u001b[39;00m \u001b[38;5;129;01min\u001b[39;00m filled_spaces:\n\u001b[0;32m     11\u001b[0m     current_coord \u001b[38;5;241m=\u001b[39m (current_coord[\u001b[38;5;241m0\u001b[39m]\u001b[38;5;241m-\u001b[39m\u001b[38;5;241m1\u001b[39m,current_coord[\u001b[38;5;241m1\u001b[39m]\u001b[38;5;241m+\u001b[39m\u001b[38;5;241m1\u001b[39m)\n\u001b[1;32m---> 12\u001b[0m \u001b[38;5;28;01melif\u001b[39;00m \u001b[43m(\u001b[49m\u001b[43mcurrent_coord\u001b[49m\u001b[43m[\u001b[49m\u001b[38;5;241;43m0\u001b[39;49m\u001b[43m]\u001b[49m\u001b[38;5;241;43m+\u001b[39;49m\u001b[38;5;241;43m1\u001b[39;49m\u001b[43m,\u001b[49m\u001b[43m \u001b[49m\u001b[43mcurrent_coord\u001b[49m\u001b[43m[\u001b[49m\u001b[38;5;241;43m1\u001b[39;49m\u001b[43m]\u001b[49m\u001b[38;5;241;43m+\u001b[39;49m\u001b[38;5;241;43m1\u001b[39;49m\u001b[43m)\u001b[49m\u001b[43m \u001b[49m\u001b[38;5;129;43;01mnot\u001b[39;49;00m\u001b[43m \u001b[49m\u001b[38;5;129;43;01min\u001b[39;49;00m\u001b[43m \u001b[49m\u001b[43mfilled_spaces\u001b[49m:\n\u001b[0;32m     13\u001b[0m     current_coord \u001b[38;5;241m=\u001b[39m (current_coord[\u001b[38;5;241m0\u001b[39m]\u001b[38;5;241m+\u001b[39m\u001b[38;5;241m1\u001b[39m,current_coord[\u001b[38;5;241m1\u001b[39m]\u001b[38;5;241m+\u001b[39m\u001b[38;5;241m1\u001b[39m)\n\u001b[0;32m     15\u001b[0m filled_spaces\u001b[38;5;241m.\u001b[39mappend(current_coord)\n",
      "\u001b[1;31mKeyboardInterrupt\u001b[0m: "
     ]
    }
   ],
   "source": [
    "filled_spaces = [rock for rock in rock_locations]\n",
    "sand_locations = []\n",
    "start_point = (500,0)\n",
    "\n",
    "for i in range(30):\n",
    "    current_coord = start_point\n",
    "    while current_coord[1]<=y_max:\n",
    "        if (current_coord[0], current_coord[1]+1) not in filled_spaces:\n",
    "            current_coord = (current_coord[0],current_coord[1]+1)\n",
    "        elif (current_coord[0]-1, current_coord[1]+1) not in filled_spaces:\n",
    "            current_coord = (current_coord[0]-1,current_coord[1]+1)\n",
    "        elif (current_coord[0]+1, current_coord[1]+1) not in filled_spaces:\n",
    "            current_coord = (current_coord[0]+1,current_coord[1]+1)\n",
    "        \n",
    "        filled_spaces.append(current_coord)"
   ]
  },
  {
   "cell_type": "code",
   "execution_count": 589,
   "id": "ed9f24df-f45d-4872-933f-c0d79a42b346",
   "metadata": {},
   "outputs": [
    {
     "data": {
      "text/plain": [
       "[(498, 4),\n",
       " (498, 5),\n",
       " (498, 6),\n",
       " (496, 6),\n",
       " (497, 6),\n",
       " (498, 6),\n",
       " (502, 4),\n",
       " (503, 4),\n",
       " (502, 4),\n",
       " (502, 5),\n",
       " (502, 6),\n",
       " (502, 7),\n",
       " (502, 8),\n",
       " (502, 9),\n",
       " (494, 9),\n",
       " (495, 9),\n",
       " (496, 9),\n",
       " (497, 9),\n",
       " (498, 9),\n",
       " (499, 9),\n",
       " (500, 9),\n",
       " (501, 9),\n",
       " (502, 9)]"
      ]
     },
     "execution_count": 589,
     "metadata": {},
     "output_type": "execute_result"
    }
   ],
   "source": [
    "rock_locations"
   ]
  },
  {
   "cell_type": "code",
   "execution_count": null,
   "id": "0ef454d9-3356-4575-b592-b8d55ac4bfe4",
   "metadata": {},
   "outputs": [],
   "source": []
  }
 ],
 "metadata": {
  "kernelspec": {
   "display_name": "Python 3 (ipykernel)",
   "language": "python",
   "name": "python3"
  },
  "language_info": {
   "codemirror_mode": {
    "name": "ipython",
    "version": 3
   },
   "file_extension": ".py",
   "mimetype": "text/x-python",
   "name": "python",
   "nbconvert_exporter": "python",
   "pygments_lexer": "ipython3",
   "version": "3.10.8"
  }
 },
 "nbformat": 4,
 "nbformat_minor": 5
}
